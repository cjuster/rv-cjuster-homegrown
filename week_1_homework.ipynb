{
 "cells": [
  {
   "cell_type": "markdown",
   "metadata": {},
   "source": [
    "# Week 1 Part 1: DataFrames"
   ]
  },
  {
   "cell_type": "markdown",
   "metadata": {},
   "source": [
    "In this section, we'll use UCI's wine quality dataset to practice \"data analysis\" (i.e. answering questions from data) using the popular Pandas library."
   ]
  },
  {
   "cell_type": "markdown",
   "metadata": {},
   "source": [
    "The best way to consolidate the knowledge in your mind is by practicing.<br>Please complete the part marked with <span style=\"color:green\">**# TODO**</span>.\n",
    "\n",
    "[Google](www.google.com) and [Python DataFrame Documentation](https://pandas.pydata.org/pandas-docs/stable/reference/api/pandas.DataFrame.html) are your good friends if you have any python questions.\n",
    "\n",
    "Upload this notebook to your Google Drive and open it with Google Colab."
   ]
  },
  {
   "cell_type": "markdown",
   "metadata": {},
   "source": [
    "## 1. Load and explore your data"
   ]
  },
  {
   "cell_type": "markdown",
   "metadata": {},
   "source": [
    "Import the necessary libraries."
   ]
  },
  {
   "cell_type": "code",
   "execution_count": 5,
   "metadata": {},
   "outputs": [],
   "source": [
    "# TODO"
   ]
  },
  {
   "cell_type": "markdown",
   "metadata": {},
   "source": [
    "Import the data set by using `url` and assign it to a variable called `wine`. Hint: need to set the `sep=';'`\n",
    "\n",
    "Check [Wine quality data description.](https://archive.ics.uci.edu/ml/datasets/Wine+Quality)"
   ]
  },
  {
   "cell_type": "code",
   "execution_count": 6,
   "metadata": {},
   "outputs": [],
   "source": [
    "# TODO\n",
    "url = 'https://archive.ics.uci.edu/ml/machine-learning-databases/wine-quality/winequality-red.csv'\n"
   ]
  },
  {
   "cell_type": "markdown",
   "metadata": {},
   "source": [
    "Show the first 10 entries of `wine`."
   ]
  },
  {
   "cell_type": "code",
   "execution_count": null,
   "metadata": {},
   "outputs": [],
   "source": [
    "# TODO\n"
   ]
  },
  {
   "cell_type": "markdown",
   "metadata": {},
   "source": [
    "Show the last 10 entries of `wine`."
   ]
  },
  {
   "cell_type": "code",
   "execution_count": null,
   "metadata": {},
   "outputs": [],
   "source": [
    "# TODO\n"
   ]
  },
  {
   "cell_type": "markdown",
   "metadata": {},
   "source": [
    "What is the number of observations in the dataset?"
   ]
  },
  {
   "cell_type": "code",
   "execution_count": null,
   "metadata": {},
   "outputs": [],
   "source": [
    "# TODO\n"
   ]
  },
  {
   "cell_type": "markdown",
   "metadata": {},
   "source": [
    "What is the number of columns in the dataset?"
   ]
  },
  {
   "cell_type": "code",
   "execution_count": null,
   "metadata": {},
   "outputs": [],
   "source": [
    "# TODO\n"
   ]
  },
  {
   "cell_type": "markdown",
   "metadata": {},
   "source": [
    "What is the data type of each column?"
   ]
  },
  {
   "cell_type": "code",
   "execution_count": null,
   "metadata": {},
   "outputs": [],
   "source": [
    "# TODO\n"
   ]
  },
  {
   "cell_type": "markdown",
   "metadata": {},
   "source": [
    "Summarize statistics of all columns."
   ]
  },
  {
   "cell_type": "code",
   "execution_count": null,
   "metadata": {},
   "outputs": [],
   "source": [
    "# TODO\n"
   ]
  },
  {
   "cell_type": "markdown",
   "metadata": {},
   "source": [
    "Access the `quality` column."
   ]
  },
  {
   "cell_type": "code",
   "execution_count": null,
   "metadata": {},
   "outputs": [],
   "source": [
    "# TODO\n"
   ]
  },
  {
   "cell_type": "markdown",
   "metadata": {},
   "source": [
    "How many unique `quality` values are there?"
   ]
  },
  {
   "cell_type": "code",
   "execution_count": null,
   "metadata": {},
   "outputs": [],
   "source": [
    "# TODO\n"
   ]
  },
  {
   "cell_type": "markdown",
   "metadata": {},
   "source": [
    "Which `quality` value has the most samples? Hint: `value_counts()`"
   ]
  },
  {
   "cell_type": "code",
   "execution_count": null,
   "metadata": {},
   "outputs": [],
   "source": [
    "# TODO\n"
   ]
  },
  {
   "cell_type": "markdown",
   "metadata": {},
   "source": [
    "## 2. Rename and filter your data"
   ]
  },
  {
   "cell_type": "markdown",
   "metadata": {},
   "source": [
    "Replace the space in the column name with `_` and show the first 10 entries. For example,  `fixed acidity` would become `fixed_acidity`."
   ]
  },
  {
   "cell_type": "code",
   "execution_count": null,
   "metadata": {},
   "outputs": [],
   "source": [
    "# TODO\n"
   ]
  },
  {
   "cell_type": "markdown",
   "metadata": {},
   "source": [
    "Print a data frame with only two columns `residual_sugar` and `quality`."
   ]
  },
  {
   "cell_type": "code",
   "execution_count": null,
   "metadata": {},
   "outputs": [],
   "source": [
    "# TODO\n"
   ]
  },
  {
   "cell_type": "markdown",
   "metadata": {},
   "source": [
    "Select only the observations with `residual_sugar` > 2 and `quality` < 8. "
   ]
  },
  {
   "cell_type": "code",
   "execution_count": null,
   "metadata": {},
   "outputs": [],
   "source": [
    "# TODO\n"
   ]
  },
  {
   "cell_type": "markdown",
   "metadata": {},
   "source": [
    "Create a new column `residual_sugar_norm` (and display the updated dataframe) so that:\n",
    "     \n",
    "\\begin{equation*}\n",
    "residual\\_sugar\\_norm_i =  \\frac{residual\\_sugar_i - min(residual\\_sugar)}{max(residual\\_sugar) - min(residual\\_sugar)}   \\textrm{, where i = 0, 1, 2, ..., observation index}\n",
    "\\end{equation*}\n",
    "\n",
    "(This technique is called \"min-max scaling\"; it scales the minimum to 0, the maximum to 1, and preserves all relative distances in between.)"
   ]
  },
  {
   "cell_type": "code",
   "execution_count": null,
   "metadata": {},
   "outputs": [],
   "source": [
    "# TODO\n"
   ]
  },
  {
   "cell_type": "markdown",
   "metadata": {},
   "source": [
    "Drop the new column `residual_sugar_norm` inplace."
   ]
  },
  {
   "cell_type": "code",
   "execution_count": null,
   "metadata": {},
   "outputs": [],
   "source": [
    "# TODO\n"
   ]
  },
  {
   "cell_type": "markdown",
   "metadata": {},
   "source": [
    "Create a new column `quality_level` so that the top half quality wines have value as `'high'` and the bottom half quality wine have value as `'low'`."
   ]
  },
  {
   "cell_type": "code",
   "execution_count": null,
   "metadata": {},
   "outputs": [],
   "source": [
    "# TODO\n"
   ]
  },
  {
   "cell_type": "markdown",
   "metadata": {},
   "source": [
    "## 3. Outlier Detection"
   ]
  },
  {
   "cell_type": "markdown",
   "metadata": {},
   "source": [
    "Access the `sulphates` column"
   ]
  },
  {
   "cell_type": "code",
   "execution_count": 9,
   "metadata": {},
   "outputs": [],
   "source": [
    "# TODO"
   ]
  },
  {
   "cell_type": "markdown",
   "metadata": {},
   "source": [
    "Look at the histogram of `sulphates`. Can you see any potential outliers?"
   ]
  },
  {
   "cell_type": "code",
   "execution_count": 10,
   "metadata": {},
   "outputs": [
    {
     "data": {
      "image/png": "[encoded data removed]",
      "text/plain": [
       "<Figure size 432x288 with 1 Axes>"
      ]
     },
     "metadata": {
      "needs_background": "light"
     },
     "output_type": "display_data"
    }
   ],
   "source": [
    "from matplotlib import pyplot\n",
    "%matplotlib inline\n",
    "pyplot.hist(sulphates)\n",
    "pyplot.show()"
   ]
  },
  {
   "cell_type": "markdown",
   "metadata": {},
   "source": [
    "**TODO**\n",
    "\n",
    "(write your text response here)"
   ]
  },
  {
   "cell_type": "markdown",
   "metadata": {},
   "source": [
    "What is the mean of `sulphates`? The standard deviation?"
   ]
  },
  {
   "cell_type": "code",
   "execution_count": 11,
   "metadata": {},
   "outputs": [],
   "source": [
    "# TODO"
   ]
  },
  {
   "cell_type": "markdown",
   "metadata": {},
   "source": [
    "One method of identifying outliers (for normally distributed data) is to find points outside three standard deviations from the mean. Using this definition, what are the upper and lower bounds of \"non-outlier\" values of `sulphates`?"
   ]
  },
  {
   "cell_type": "code",
   "execution_count": 13,
   "metadata": {},
   "outputs": [],
   "source": [
    "# TODO\n",
    "upper_limit = \n",
    "lower_limit ="
   ]
  },
  {
   "cell_type": "markdown",
   "metadata": {},
   "source": [
    "How many points would be considered outliers?"
   ]
  },
  {
   "cell_type": "code",
   "execution_count": null,
   "metadata": {},
   "outputs": [],
   "source": [
    "# TODO"
   ]
  },
  {
   "cell_type": "markdown",
   "metadata": {},
   "source": [
    "Create a new dataframe from wine called removed_outliers that removes the rows containing the `sulphates` outliers you just found."
   ]
  },
  {
   "cell_type": "code",
   "execution_count": 14,
   "metadata": {},
   "outputs": [],
   "source": [
    "# TODO"
   ]
  },
  {
   "cell_type": "markdown",
   "metadata": {},
   "source": [
    "Another way to spot outliers is with the dots on a boxplot. Does this method seem to agree with the previous method?"
   ]
  },
  {
   "cell_type": "code",
   "execution_count": 15,
   "metadata": {},
   "outputs": [
    {
     "data": {
      "image/png": "[encoded data removed]",
      "text/plain": [
       "<Figure size 432x288 with 1 Axes>"
      ]
     },
     "metadata": {
      "needs_background": "light"
     },
     "output_type": "display_data"
    }
   ],
   "source": [
    "pyplot.boxplot(sulphates)\n",
    "pyplot.show()"
   ]
  },
  {
   "cell_type": "markdown",
   "metadata": {},
   "source": [
    "Why do you think we might we want to be careful before removing these outliers?"
   ]
  },
  {
   "cell_type": "markdown",
   "metadata": {},
   "source": [
    "**TODO**\n",
    "\n",
    "(write your text response here)"
   ]
  },
  {
   "cell_type": "markdown",
   "metadata": {},
   "source": [
    "## 4. GroupBy"
   ]
  },
  {
   "cell_type": "markdown",
   "metadata": {},
   "source": [
    "Which `quality_level` are with higher `fixed_acidity` on average? Hint: use `groupby`"
   ]
  },
  {
   "cell_type": "code",
   "execution_count": null,
   "metadata": {},
   "outputs": [],
   "source": [
    "# TODO\n"
   ]
  },
  {
   "cell_type": "markdown",
   "metadata": {},
   "source": [
    "For each of the numerical features, plot a histogram of the feature values under different categories of `quality_level`. Can you use this to tell which feature is more likely to indicate the `quality_level` of wine?\n",
    "\n",
    "<i>Hint: Consider using seaborn's </i>`histplot()`<i>, with </i>`quality_level` <i>as the \"hue\" argument.</i>"
   ]
  },
  {
   "cell_type": "code",
   "execution_count": null,
   "metadata": {},
   "outputs": [],
   "source": [
    "# TODO\n"
   ]
  },
  {
   "cell_type": "markdown",
   "metadata": {},
   "source": [
    "**TODO**\n",
    "\n",
    "(write your text response here)"
   ]
  },
  {
   "cell_type": "markdown",
   "metadata": {},
   "source": [
    "## 5. Handling missing data"
   ]
  },
  {
   "cell_type": "markdown",
   "metadata": {},
   "source": [
    "Create a dataframe with `raw_data` and assign it to a variable called `df`."
   ]
  },
  {
   "cell_type": "code",
   "execution_count": 9,
   "metadata": {},
   "outputs": [],
   "source": [
    "# TODO\n",
    "import numpy as np\n",
    "\n",
    "raw_data = {'first_name': ['Jason', np.nan, 'Tina', 'Jake', 'Amy', 'Ellen'], \n",
    "        'last_name': ['Miller', np.nan, 'Ali', 'Milner', 'Cooze', 'Smith'], \n",
    "        'age': [42, np.nan, 36, 24, 73, 55], \n",
    "        'sex': ['m', np.nan, 'f', 'm', 'f', 'f'], \n",
    "        'region': ['Northeast', np.nan, 'Midwest', 'South', 'Northeast', 'Midwest'],\n",
    "        'preTestScore': [4, np.nan, np.nan, 2, 3, np.nan],\n",
    "        'postTestScore': [25, np.nan, np.nan, 62, 70, 50]}\n",
    "\n"
   ]
  },
  {
   "cell_type": "markdown",
   "metadata": {},
   "source": [
    "Drop observations with missing values and assign it to a variable called `df_clean`."
   ]
  },
  {
   "cell_type": "code",
   "execution_count": null,
   "metadata": {},
   "outputs": [],
   "source": [
    "# TODO\n"
   ]
  },
  {
   "cell_type": "markdown",
   "metadata": {},
   "source": [
    "For each column in `df`, show what percentage of its values are null. Try to avoid having repeated blocks of code for each column.\n",
    "\n",
    "(Regarding the second line, the goal is to get you thinking like a Pandas programmer. In practice you may have hundreds of variables in your dataframe, and hard coded statements using each column name will not scale.)\n",
    "\n",
    "<i>Hint: Using </i>`df.isna()`<i> might be helpful here. How can you get column-wise percentages from the output of this?</i>"
   ]
  },
  {
   "cell_type": "code",
   "execution_count": 2,
   "metadata": {},
   "outputs": [],
   "source": [
    "# TODO\n"
   ]
  },
  {
   "cell_type": "markdown",
   "metadata": {},
   "source": [
    "Use your result from above to drop columns from `df` with 40% or more of its values null, and store the result in a dataframe called `temp`."
   ]
  },
  {
   "cell_type": "code",
   "execution_count": null,
   "metadata": {},
   "outputs": [],
   "source": [
    "# TODO\n"
   ]
  },
  {
   "cell_type": "markdown",
   "metadata": {},
   "source": [
    "Fill all missing values in `df` with zeros."
   ]
  },
  {
   "cell_type": "code",
   "execution_count": 4,
   "metadata": {},
   "outputs": [],
   "source": [
    "# TODO\n"
   ]
  },
  {
   "cell_type": "markdown",
   "metadata": {},
   "source": [
    "Use `groupby` on `df` to find the average post test score by region. How did `groupby` handle the missing values? If you were trying to find the averages by region, would you choose this method over filling missing values with 0 first?"
   ]
  },
  {
   "cell_type": "code",
   "execution_count": null,
   "metadata": {},
   "outputs": [],
   "source": [
    "# TODO"
   ]
  },
  {
   "cell_type": "markdown",
   "metadata": {},
   "source": [
    "**TODO**\n",
    "\n",
    "(write your text response here)"
   ]
  },
  {
   "cell_type": "markdown",
   "metadata": {},
   "source": [
    "## 6. Joining Multiple Data Sources"
   ]
  },
  {
   "cell_type": "markdown",
   "metadata": {},
   "source": [
    "Let's practice joining data from different sources. First, let's prepare 2 dataframes. \n",
    "\n",
    "Convert `raw_data_a` and `raw_data_b` into Pandas dataframes, and display each. You'll notice that they have a common column between them (the `id` column). We'll use this to help join data from the 2 different sources.\n",
    "\n",
    "**For the following exercises, treat dataframe a as the left table and dataframe b as the right table**"
   ]
  },
  {
   "cell_type": "code",
   "execution_count": 2,
   "metadata": {},
   "outputs": [],
   "source": [
    "# TODO\n",
    "raw_data_a = {'first_name': ['Jason', 'Tina', 'Jake', 'Amy', 'Ellen'], \n",
    "        'last_name': ['Miller', 'Ali', 'Milner', 'Cooze', 'Smith'], \n",
    "        'age': [42, 36, 24, 73, 55], \n",
    "        'region': ['Northeast', 'Midwest', 'South', 'Northeast', 'Midwest'],\n",
    "        'id': [111, 102, 304, 213, 402]}\n",
    "\n"
   ]
  },
  {
   "cell_type": "code",
   "execution_count": 3,
   "metadata": {},
   "outputs": [],
   "source": [
    "# TODO\n",
    "raw_data_b = {'preTestScore': [4, 2, 3, 5],\n",
    "        'postTestScore': [25, 70, 50, 55],\n",
    "        'id': [111, 304, 213, 505]}\n",
    "\n"
   ]
  },
  {
   "cell_type": "markdown",
   "metadata": {},
   "source": [
    "Now let's do a left join between dataframe a and dataframe b.\n",
    "- This is where all the data from the left table is present, and we only retrieve relevant data from the right table\n",
    "- Hint: use the `merge()` example [here](https://pandas.pydata.org/docs/user_guide/merging.html#brief-primer-on-merge-methods-relational-algebra) where the parameter is `how=\"left\"`\n",
    "- You'll want to join on the `id` column\n",
    "- You should see:\n",
    "    - 5 rows total\n",
    "    - The columns from the left table fully populated (no nulls)\n",
    "    - The columns from the right table only partially populated (3 non-null datapoints)"
   ]
  },
  {
   "cell_type": "code",
   "execution_count": null,
   "metadata": {},
   "outputs": [],
   "source": [
    "### TODO: Merge with left join\n"
   ]
  },
  {
   "cell_type": "markdown",
   "metadata": {},
   "source": [
    "Let's try a right join between dataframe a and dataframe b.\n",
    "\n",
    "- This is where all the data from the right table is present, and we only retrieve relevant data from the left table\n",
    "- The only difference should by the value you provide for the `how` parameter\n",
    "- You should see:\n",
    "    - 4 rows total\n",
    "    - The columns from the right table fully populated (no nulls)\n",
    "    - The columns from the left table only partially populated (3 non-null datapoints)"
   ]
  },
  {
   "cell_type": "code",
   "execution_count": 4,
   "metadata": {},
   "outputs": [],
   "source": [
    "### TODO: Merge with right join\n"
   ]
  },
  {
   "cell_type": "markdown",
   "metadata": {},
   "source": [
    "Let's try an inner join between dataframe a and dataframe b.\n",
    "\n",
    "- This is where we only include data from both left and right tables that have a shared id (NO NULL DATA)\n",
    "- You should see:\n",
    "    - 3 rows total\n",
    "    - All columns fully populated (no nulls)"
   ]
  },
  {
   "cell_type": "code",
   "execution_count": 5,
   "metadata": {},
   "outputs": [],
   "source": [
    "### TODO: Merge with inner join\n"
   ]
  },
  {
   "cell_type": "markdown",
   "metadata": {},
   "source": [
    "Finally, let's try an outer join between dataframe a and dataframe b.\n",
    "\n",
    "- This is where we include all data from both left and right tables (even if they don't have a shared id).\n",
    "- You should see:\n",
    "    - 6 rows total\n",
    "    - The columns from the left table partially populated (5 non-null datapoints)\n",
    "    - The columns from the right table partially populated (4 non-null datapoints)"
   ]
  },
  {
   "cell_type": "code",
   "execution_count": null,
   "metadata": {},
   "outputs": [],
   "source": [
    "### TODO: Merge with outer join\n"
   ]
  },
  {
   "cell_type": "markdown",
   "metadata": {
    "id": "GP-HalC3roLG"
   },
   "source": [
    "# Week 1 Part 2: Data Visualization\n",
    "\n",
    "In this section, we'll work through creating visualizations related to trends in mpg of certain vehicles. You'll get started using [MatPlotLib](https://matplotlib.org/), a very powerful and popular plotting library in Python that is covered in this week's course materials."
   ]
  },
  {
   "cell_type": "code",
   "execution_count": null,
   "metadata": {
    "id": "r3HfRWoSVIfW"
   },
   "outputs": [],
   "source": [
    "# The convention for importing matplotlib with an alias is \"plt\". We'll also need pandas and numpy\n",
    "\n",
    "import pandas as pd\n",
    "import matplotlib.pyplot as plt\n",
    "import numpy as np\n",
    "import seaborn as sns"
   ]
  },
  {
   "cell_type": "markdown",
   "metadata": {
    "id": "wJt4tazuRpEL"
   },
   "source": [
    "## The MPG Dataset\n",
    "\n",
    "This dataset shows the miles per gallon of certain vehicles as well as predictive attributes about them (name, year, horsepower, etc.)"
   ]
  },
  {
   "cell_type": "code",
   "execution_count": null,
   "metadata": {
    "colab": {
     "base_uri": "https://localhost:8080/"
    },
    "executionInfo": {
     "elapsed": 2947,
     "status": "ok",
     "timestamp": 1655822454239,
     "user": {
      "displayName": "Jason Woo",
      "userId": "10408600847021004898"
     },
     "user_tz": 240
    },
    "id": "b7JyR8TRp-mL",
    "outputId": "db13190f-ecc0-4f67-e2e3-081b20ad1b91"
   },
   "outputs": [
    {
     "name": "stdout",
     "output_type": "stream",
     "text": [
      "initiated datasets repo at: /root/.pydataset/\n"
     ]
    }
   ],
   "source": [
    "mpg_df = sns.load_dataset(\"mpg\")"
   ]
  },
  {
   "cell_type": "code",
   "execution_count": null,
   "metadata": {
    "colab": {
     "base_uri": "https://localhost:8080/",
     "height": 426
    },
    "executionInfo": {
     "elapsed": 93,
     "status": "ok",
     "timestamp": 1655822464549,
     "user": {
      "displayName": "Jason Woo",
      "userId": "10408600847021004898"
     },
     "user_tz": 240
    },
    "id": "551KQ43sQ9uf",
    "outputId": "061f967d-5526-4c74-ee06-35d50ef423b2"
   },
   "outputs": [],
   "source": [
    "mpg_df.head(10)"
   ]
  },
  {
   "cell_type": "markdown",
   "metadata": {
    "id": "KbRfTZMUjzuP"
   },
   "source": [
    "## #1 Create a histogram of a continous variables\n",
    "Additional requirements:\n",
    "* Label the x-axis\n",
    "* Label the y-axis\n",
    "* Add a title to the plot\n",
    "* Bin the histogram to 8 bings"
   ]
  },
  {
   "cell_type": "code",
   "execution_count": null,
   "metadata": {
    "id": "CWyRNghdSI9I"
   },
   "outputs": [],
   "source": [
    "# TODO\n"
   ]
  },
  {
   "cell_type": "markdown",
   "metadata": {
    "id": "1oVHWw-XkIKi"
   },
   "source": [
    "## #2 Create a box plot\n",
    "\n",
    "Additional requirements:\n",
    "* Title\n",
    "* Include two variables (mpg and horsepower) on the same graph\n",
    "\n"
   ]
  },
  {
   "cell_type": "code",
   "execution_count": null,
   "metadata": {
    "id": "jRtzPhybR7Z0"
   },
   "outputs": [],
   "source": [
    "# TODO"
   ]
  },
  {
   "cell_type": "markdown",
   "metadata": {},
   "source": [
    "## Submission\n",
    "\n",
    "Download completed **Week1_Homework.ipynb** from Google Colab and commit to your personal Github repo you shared with the faculty."
   ]
  }
 ],
 "metadata": {
  "kernelspec": {
   "display_name": "Python 3 (ipykernel)",
   "language": "python",
   "name": "python3"
  },
  "language_info": {
   "codemirror_mode": {
    "name": "ipython",
    "version": 3
   },
   "file_extension": ".py",
   "mimetype": "text/x-python",
   "name": "python",
   "nbconvert_exporter": "python",
   "pygments_lexer": "ipython3",
   "version": "3.9.7"
  }
 },
 "nbformat": 4,
 "nbformat_minor": 4
}
